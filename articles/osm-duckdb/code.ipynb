{
 "cells": [
  {
   "cell_type": "code",
   "execution_count": 7,
   "metadata": {},
   "outputs": [
    {
     "name": "stdout",
     "output_type": "stream",
     "text": [
      "Note: you may need to restart the kernel to use updated packages.\n"
     ]
    }
   ],
   "source": [
    "%pip install -q \"duckdb>=0.9.2\" \"quackosm>=0.3.2\" magic-duckdb"
   ]
  },
  {
   "cell_type": "markdown",
   "metadata": {},
   "source": [
    "### Setup DuckDB connection and load `spatial` extension"
   ]
  },
  {
   "cell_type": "code",
   "execution_count": 2,
   "metadata": {},
   "outputs": [],
   "source": [
    "%load_ext magic_duckdb"
   ]
  },
  {
   "cell_type": "code",
   "execution_count": 4,
   "metadata": {},
   "outputs": [],
   "source": [
    "%%dql\n",
    "INSTALL spatial;\n",
    "LOAD spatial;"
   ]
  },
  {
   "cell_type": "markdown",
   "metadata": {},
   "source": [
    "# Reading OSM data"
   ]
  },
  {
   "cell_type": "code",
   "execution_count": 22,
   "metadata": {},
   "outputs": [
    {
     "name": "stdout",
     "output_type": "stream",
     "text": [
      "┌─────────────┬──────────────────────────────────────────────┬─────────┬─────────┬─────────┬─────────┐\n",
      "│ column_name │                 column_type                  │  null   │   key   │ default │  extra  │\n",
      "│   varchar   │                   varchar                    │ varchar │ varchar │ varchar │ varchar │\n",
      "├─────────────┼──────────────────────────────────────────────┼─────────┼─────────┼─────────┼─────────┤\n",
      "│ kind        │ ENUM('node', 'way', 'relation', 'changeset') │ YES     │ NULL    │ NULL    │ NULL    │\n",
      "│ id          │ BIGINT                                       │ YES     │ NULL    │ NULL    │ NULL    │\n",
      "│ tags        │ MAP(VARCHAR, VARCHAR)                        │ YES     │ NULL    │ NULL    │ NULL    │\n",
      "│ refs        │ BIGINT[]                                     │ YES     │ NULL    │ NULL    │ NULL    │\n",
      "│ lat         │ DOUBLE                                       │ YES     │ NULL    │ NULL    │ NULL    │\n",
      "│ lon         │ DOUBLE                                       │ YES     │ NULL    │ NULL    │ NULL    │\n",
      "│ ref_roles   │ VARCHAR[]                                    │ YES     │ NULL    │ NULL    │ NULL    │\n",
      "│ ref_types   │ ENUM('node', 'way', 'relation')[]            │ YES     │ NULL    │ NULL    │ NULL    │\n",
      "└─────────────┴──────────────────────────────────────────────┴─────────┴─────────┴─────────┴─────────┘\n",
      "\n"
     ]
    }
   ],
   "source": [
    "%%dql -t show\n",
    "DESCRIBE SELECT * FROM ST_READOSM('monaco-latest.osm.pbf')"
   ]
  },
  {
   "cell_type": "code",
   "execution_count": 24,
   "metadata": {},
   "outputs": [
    {
     "data": {
      "text/html": [
       "<div>\n",
       "<style scoped>\n",
       "    .dataframe tbody tr th:only-of-type {\n",
       "        vertical-align: middle;\n",
       "    }\n",
       "\n",
       "    .dataframe tbody tr th {\n",
       "        vertical-align: top;\n",
       "    }\n",
       "\n",
       "    .dataframe thead th {\n",
       "        text-align: right;\n",
       "    }\n",
       "</style>\n",
       "<table border=\"1\" class=\"dataframe\">\n",
       "  <thead>\n",
       "    <tr style=\"text-align: right;\">\n",
       "      <th></th>\n",
       "      <th>kind</th>\n",
       "      <th>id</th>\n",
       "      <th>tags</th>\n",
       "      <th>refs</th>\n",
       "      <th>lat</th>\n",
       "      <th>lon</th>\n",
       "      <th>ref_roles</th>\n",
       "      <th>ref_types</th>\n",
       "    </tr>\n",
       "  </thead>\n",
       "  <tbody>\n",
       "    <tr>\n",
       "      <th>0</th>\n",
       "      <td>node</td>\n",
       "      <td>21911883</td>\n",
       "      <td>NaN</td>\n",
       "      <td>NaN</td>\n",
       "      <td>43.737118</td>\n",
       "      <td>7.422909</td>\n",
       "      <td>NaN</td>\n",
       "      <td>NaN</td>\n",
       "    </tr>\n",
       "    <tr>\n",
       "      <th>1</th>\n",
       "      <td>node</td>\n",
       "      <td>21911886</td>\n",
       "      <td>{'key': ['crossing', 'crossing:island', 'cross...</td>\n",
       "      <td>NaN</td>\n",
       "      <td>43.737240</td>\n",
       "      <td>7.423499</td>\n",
       "      <td>NaN</td>\n",
       "      <td>NaN</td>\n",
       "    </tr>\n",
       "    <tr>\n",
       "      <th>2</th>\n",
       "      <td>node</td>\n",
       "      <td>21911894</td>\n",
       "      <td>NaN</td>\n",
       "      <td>NaN</td>\n",
       "      <td>43.737773</td>\n",
       "      <td>7.425919</td>\n",
       "      <td>NaN</td>\n",
       "      <td>NaN</td>\n",
       "    </tr>\n",
       "    <tr>\n",
       "      <th>3</th>\n",
       "      <td>node</td>\n",
       "      <td>21911901</td>\n",
       "      <td>NaN</td>\n",
       "      <td>NaN</td>\n",
       "      <td>43.737762</td>\n",
       "      <td>7.426710</td>\n",
       "      <td>NaN</td>\n",
       "      <td>NaN</td>\n",
       "    </tr>\n",
       "    <tr>\n",
       "      <th>4</th>\n",
       "      <td>node</td>\n",
       "      <td>21911908</td>\n",
       "      <td>NaN</td>\n",
       "      <td>NaN</td>\n",
       "      <td>43.738191</td>\n",
       "      <td>7.426961</td>\n",
       "      <td>NaN</td>\n",
       "      <td>NaN</td>\n",
       "    </tr>\n",
       "  </tbody>\n",
       "</table>\n",
       "</div>"
      ],
      "text/plain": [
       "   kind        id                                               tags refs  \\\n",
       "0  node  21911883                                                NaN  NaN   \n",
       "1  node  21911886  {'key': ['crossing', 'crossing:island', 'cross...  NaN   \n",
       "2  node  21911894                                                NaN  NaN   \n",
       "3  node  21911901                                                NaN  NaN   \n",
       "4  node  21911908                                                NaN  NaN   \n",
       "\n",
       "         lat       lon ref_roles ref_types  \n",
       "0  43.737118  7.422909       NaN       NaN  \n",
       "1  43.737240  7.423499       NaN       NaN  \n",
       "2  43.737773  7.425919       NaN       NaN  \n",
       "3  43.737762  7.426710       NaN       NaN  \n",
       "4  43.738191  7.426961       NaN       NaN  "
      ]
     },
     "execution_count": 24,
     "metadata": {},
     "output_type": "execute_result"
    }
   ],
   "source": [
    "%%dql -t df\n",
    "SELECT *\n",
    "FROM ST_READOSM('monaco-latest.osm.pbf')\n",
    "LIMIT 5;"
   ]
  },
  {
   "cell_type": "code",
   "execution_count": 18,
   "metadata": {},
   "outputs": [
    {
     "name": "stdout",
     "output_type": "stream",
     "text": [
      "┌────────────────┐\n",
      "│ total_features │\n",
      "│     int64      │\n",
      "├────────────────┤\n",
      "│          35782 │\n",
      "└────────────────┘\n",
      "\n"
     ]
    }
   ],
   "source": [
    "%%dql -t show\n",
    "SELECT COUNT(*) as total_features\n",
    "FROM ST_READOSM('monaco-latest.osm.pbf')"
   ]
  },
  {
   "cell_type": "code",
   "execution_count": 20,
   "metadata": {},
   "outputs": [
    {
     "name": "stdout",
     "output_type": "stream",
     "text": [
      "┌──────────────────────────────────────────────┬────────────────┐\n",
      "│                     kind                     │ total_features │\n",
      "│ enum('node', 'way', 'relation', 'changeset') │     int64      │\n",
      "├──────────────────────────────────────────────┼────────────────┤\n",
      "│ node                                         │          30643 │\n",
      "│ way                                          │           4849 │\n",
      "│ relation                                     │            290 │\n",
      "└──────────────────────────────────────────────┴────────────────┘\n",
      "\n"
     ]
    }
   ],
   "source": [
    "%%dql\n",
    "SELECT kind, COUNT(*) as total_features\n",
    "FROM ST_READOSM('monaco-latest.osm.pbf')\n",
    "GROUP BY 1"
   ]
  },
  {
   "cell_type": "code",
   "execution_count": null,
   "metadata": {},
   "outputs": [],
   "source": [
    "%%dql -t df\n",
    "SELECT *\n",
    "FROM ST_READOSM('monaco-latest.osm.pbf')\n",
    "LIMIT 5;"
   ]
  },
  {
   "cell_type": "code",
   "execution_count": 6,
   "metadata": {},
   "outputs": [
    {
     "name": "stdout",
     "output_type": "stream",
     "text": [
      "┌────────────────┐\n",
      "│ st_point(1, 2) │\n",
      "│    geometry    │\n",
      "├────────────────┤\n",
      "│ POINT (1 2)    │\n",
      "└────────────────┘\n",
      "\n"
     ]
    }
   ],
   "source": [
    "%%dql -t show\n",
    "SELECT ST_Point(1, 2)"
   ]
  }
 ],
 "metadata": {
  "kernelspec": {
   "display_name": ".venv",
   "language": "python",
   "name": "python3"
  },
  "language_info": {
   "codemirror_mode": {
    "name": "ipython",
    "version": 3
   },
   "file_extension": ".py",
   "mimetype": "text/x-python",
   "name": "python",
   "nbconvert_exporter": "python",
   "pygments_lexer": "ipython3",
   "version": "3.10.12"
  }
 },
 "nbformat": 4,
 "nbformat_minor": 2
}
